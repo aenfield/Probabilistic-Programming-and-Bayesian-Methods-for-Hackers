{
 "cells": [
  {
   "cell_type": "code",
   "execution_count": 3,
   "metadata": {
    "collapsed": false
   },
   "outputs": [
    {
     "name": "stdout",
     "output_type": "stream",
     "text": [
      "Populating the interactive namespace from numpy and matplotlib\n"
     ]
    }
   ],
   "source": [
    "%pylab inline\n",
    "import pymc as pm"
   ]
  },
  {
   "cell_type": "code",
   "execution_count": 8,
   "metadata": {
    "collapsed": true
   },
   "outputs": [],
   "source": [
    "parameter = pm.Exponential(\"parameter\", 1)\n",
    "data_generator = pm.Poisson(\"data_generator\", parameter)\n",
    "data_plus_one = data_generator + 1"
   ]
  },
  {
   "cell_type": "code",
   "execution_count": 9,
   "metadata": {
    "collapsed": false
   },
   "outputs": [
    {
     "name": "stdout",
     "output_type": "stream",
     "text": [
      "set([<pymc.distributions.Poisson 'data_generator' at 0x109cff2d0>])\n",
      "\n",
      "{'mu': <pymc.distributions.Exponential 'parameter' at 0x109cff290>}\n",
      "\n",
      "set([<pymc.PyMCObjects.Deterministic '(data_generator_add_1)' at 0x109cff350>])\n"
     ]
    }
   ],
   "source": [
    "print parameter.children\n",
    "print\n",
    "print data_generator.parents\n",
    "print\n",
    "print data_generator.children"
   ]
  },
  {
   "cell_type": "code",
   "execution_count": 10,
   "metadata": {
    "collapsed": false
   },
   "outputs": [
    {
     "name": "stdout",
     "output_type": "stream",
     "text": [
      "parameter.value =  2.14041160128\n",
      "data_generator.value =  0\n",
      "data_plus_one.value =  1\n"
     ]
    }
   ],
   "source": [
    "print \"parameter.value = \", parameter.value\n",
    "print \"data_generator.value = \", data_generator.value\n",
    "print \"data_plus_one.value = \", data_plus_one.value"
   ]
  },
  {
   "cell_type": "code",
   "execution_count": 12,
   "metadata": {
    "collapsed": true
   },
   "outputs": [],
   "source": [
    "# to get information about the class-specific initialization variables,\n",
    "# use classname?? (or http://pymc-devs.github.io/pymc/distributions.html)\n",
    "pm.Exponential??"
   ]
  },
  {
   "cell_type": "code",
   "execution_count": 22,
   "metadata": {
    "collapsed": false
   },
   "outputs": [
    {
     "name": "stdout",
     "output_type": "stream",
     "text": [
      "lambdas[0].value = 0.263\n",
      "lambdas[1].value = 0.602\n",
      "tau.value = 10.000\n",
      "\n",
      "After calling random() on the variables...\n",
      "lambdas[0].value = 0.533\n",
      "lambdas[1].value = 0.484\n",
      "tau.value = 9.000\n"
     ]
    }
   ],
   "source": [
    "lambdas = pm.Exponential(\"lambdas\", 1, size=2)\n",
    "tau = pm.DiscreteUniform(\"tau\", lower=0, upper=10)\n",
    "\n",
    "print \"lambdas[0].value = %.3f\" % lambdas[0].value\n",
    "print \"lambdas[1].value = %.3f\" % lambdas[1].value\n",
    "print \"tau.value = %.3f\" % tau.value\n",
    "print\n",
    "\n",
    "lambdas.random(), tau.random()\n",
    "\n",
    "print \"After calling random() on the variables...\"\n",
    "print \"lambdas[0].value = %.3f\" % lambdas[0].value\n",
    "print \"lambdas[1].value = %.3f\" % lambdas[1].value\n",
    "print \"tau.value = %.3f\" % tau.value"
   ]
  },
  {
   "cell_type": "code",
   "execution_count": 67,
   "metadata": {
    "collapsed": true
   },
   "outputs": [],
   "source": [
    "# we can create PyMC variables that act like the stochastic variables\n",
    "# we've already seen, by defining a function - the function can be\n",
    "# treated as a PyMC variable from then on out\n",
    "@pm.deterministic\n",
    "def lambda_(tau=tau, lambdas=lambdas):\n",
    "    out = np.zeros(5)\n",
    "    out[:tau] = lambdas[0]\n",
    "    out[tau:] = lambdas[1]\n",
    "    return out"
   ]
  },
  {
   "cell_type": "code",
   "execution_count": 32,
   "metadata": {
    "collapsed": false
   },
   "outputs": [
    {
     "data": {
      "text/plain": [
       "<pymc.CommonDeterministics.Index 'lambdas[0]' at 0x109d8e3d0>"
      ]
     },
     "execution_count": 32,
     "metadata": {},
     "output_type": "execute_result"
    }
   ],
   "source": [
    "lambdas[0]"
   ]
  },
  {
   "cell_type": "code",
   "execution_count": 33,
   "metadata": {
    "collapsed": false
   },
   "outputs": [
    {
     "data": {
      "text/plain": [
       "<pymc.CommonDeterministics.Index 'lambda_[47]' at 0x109d81ad0>"
      ]
     },
     "execution_count": 33,
     "metadata": {},
     "output_type": "execute_result"
    }
   ],
   "source": [
    "lambda_[47]"
   ]
  },
  {
   "cell_type": "code",
   "execution_count": 34,
   "metadata": {
    "collapsed": false
   },
   "outputs": [
    {
     "name": "stdout",
     "output_type": "stream",
     "text": [
      "0.533003045162\n",
      "0.533003045162\n",
      "9\n",
      "0.533003045162\n",
      "0.4837735037\n",
      "0.4837735037\n"
     ]
    }
   ],
   "source": [
    "print lambda_[0].value\n",
    "print lambda_[1].value\n",
    "\n",
    "print tau.value\n",
    "\n",
    "print lambda_[tau.value - 1].value\n",
    "print lambda_[tau.value].value\n",
    "print lambda_[tau.value + 1].value"
   ]
  },
  {
   "cell_type": "code",
   "execution_count": 35,
   "metadata": {
    "collapsed": false
   },
   "outputs": [
    {
     "data": {
      "text/plain": [
       "{'lambdas': <pymc.distributions.Exponential 'lambdas' at 0x109da1a90>,\n",
       " 'tau': <pymc.distributions.DiscreteUniform 'tau' at 0x109da1a50>}"
      ]
     },
     "execution_count": 35,
     "metadata": {},
     "output_type": "execute_result"
    }
   ],
   "source": [
    "lambda_.parents"
   ]
  },
  {
   "cell_type": "code",
   "execution_count": 36,
   "metadata": {
    "collapsed": false
   },
   "outputs": [
    {
     "data": {
      "text/plain": [
       "{<pymc.CommonDeterministics.Index 'lambda_[8]' at 0x109de37d0>,\n",
       " <pymc.CommonDeterministics.Index 'lambda_[0]' at 0x109de3710>,\n",
       " <pymc.CommonDeterministics.Index 'lambda_[1]' at 0x109de36d0>,\n",
       " <pymc.CommonDeterministics.Index 'lambda_[47]' at 0x109d81ad0>,\n",
       " <pymc.CommonDeterministics.Index 'lambda_[10]' at 0x109de3890>,\n",
       " <pymc.PyMCObjects.Deterministic 'lambda_[9]' at 0x109de3810>}"
      ]
     },
     "execution_count": 36,
     "metadata": {},
     "output_type": "execute_result"
    }
   ],
   "source": [
    "lambda_.children"
   ]
  },
  {
   "cell_type": "code",
   "execution_count": 37,
   "metadata": {
    "collapsed": false
   },
   "outputs": [
    {
     "data": {
      "text/plain": [
       "{'lower': 0, 'upper': 10}"
      ]
     },
     "execution_count": 37,
     "metadata": {},
     "output_type": "execute_result"
    }
   ],
   "source": [
    "tau.parents"
   ]
  },
  {
   "cell_type": "code",
   "execution_count": 38,
   "metadata": {
    "collapsed": false
   },
   "outputs": [
    {
     "data": {
      "text/plain": [
       "{<pymc.PyMCObjects.Deterministic 'lambda_' at 0x109da10d0>,\n",
       " <pymc.PyMCObjects.Deterministic 'lambda_' at 0x109de3410>}"
      ]
     },
     "execution_count": 38,
     "metadata": {},
     "output_type": "execute_result"
    }
   ],
   "source": [
    "tau.children"
   ]
  },
  {
   "cell_type": "code",
   "execution_count": 39,
   "metadata": {
    "collapsed": false
   },
   "outputs": [
    {
     "data": {
      "text/plain": [
       "{'beta': 1}"
      ]
     },
     "execution_count": 39,
     "metadata": {},
     "output_type": "execute_result"
    }
   ],
   "source": [
    "lambdas.parents"
   ]
  },
  {
   "cell_type": "code",
   "execution_count": 40,
   "metadata": {
    "collapsed": false
   },
   "outputs": [
    {
     "data": {
      "text/plain": [
       "{<pymc.CommonDeterministics.Index 'lambdas[0]' at 0x109d8e3d0>,\n",
       " <pymc.CommonDeterministics.Index 'lambdas[0]' at 0x103e314d0>,\n",
       " <pymc.PyMCObjects.Deterministic 'lambda_' at 0x109da10d0>,\n",
       " <pymc.CommonDeterministics.Index 'lambdas[1]' at 0x109da1cd0>,\n",
       " <pymc.CommonDeterministics.Index 'lambdas[0]' at 0x109da1c90>,\n",
       " <pymc.PyMCObjects.Deterministic 'lambda_' at 0x109de3410>,\n",
       " <pymc.CommonDeterministics.Index 'lambdas[0]' at 0x109d81a50>,\n",
       " <pymc.CommonDeterministics.Index 'lambdas[1]' at 0x109da1c10>}"
      ]
     },
     "execution_count": 40,
     "metadata": {},
     "output_type": "execute_result"
    }
   ],
   "source": [
    "lambdas.children"
   ]
  },
  {
   "cell_type": "code",
   "execution_count": 59,
   "metadata": {
    "collapsed": false
   },
   "outputs": [
    {
     "data": {
      "text/plain": [
       "(0, 8)"
      ]
     },
     "execution_count": 59,
     "metadata": {},
     "output_type": "execute_result"
    },
    {
     "data": {
      "image/png": "[encoded data removed]",
      "text/plain": [
       "<matplotlib.figure.Figure at 0x11f70f810>"
      ]
     },
     "metadata": {},
     "output_type": "display_data"
    }
   ],
   "source": [
    "figsize(10, 4)\n",
    "\n",
    "samples = [lambdas.random()[0] for i in range(20000)] # note that i have to call random on the parent variable to get an array of random vars and then index to 0, instead of indexing first to get a single random variable and then calling random()\n",
    "plt.hist(samples, bins=70, normed=True, histtype=\"stepfilled\")\n",
    "plt.title(\"Prior distribution for $\\lambda[0]$\")\n",
    "plt.xlim(0, 8)"
   ]
  },
  {
   "cell_type": "code",
   "execution_count": 60,
   "metadata": {
    "collapsed": false
   },
   "outputs": [
    {
     "name": "stdout",
     "output_type": "stream",
     "text": [
      "value:  [10  5]\n",
      "calling .random()\n",
      "value:  [10  5]\n"
     ]
    }
   ],
   "source": [
    "data = np.array([10, 5])\n",
    "fixed_variable = pm.Poisson(\"fixed_variable\", 1, value=data, observed=True)\n",
    "print \"value: \", fixed_variable.value\n",
    "print \"calling .random()\"\n",
    "fixed_variable.random()\n",
    "print \"value: \", fixed_variable.value"
   ]
  },
  {
   "cell_type": "code",
   "execution_count": 68,
   "metadata": {
    "collapsed": false
   },
   "outputs": [
    {
     "name": "stdout",
     "output_type": "stream",
     "text": [
      "[10 25 15 20 35]\n"
     ]
    }
   ],
   "source": [
    "data = np.array([10, 25, 15, 20, 35])\n",
    "obs = pm.Poisson(\"obs\", lambda_, value=data, observed=True)\n",
    "print obs.value"
   ]
  },
  {
   "cell_type": "code",
   "execution_count": 70,
   "metadata": {
    "collapsed": true
   },
   "outputs": [],
   "source": [
    "model = pm.Model([obs, lambdas, tau])"
   ]
  },
  {
   "cell_type": "code",
   "execution_count": 98,
   "metadata": {
    "collapsed": false
   },
   "outputs": [
    {
     "data": {
      "text/plain": [
       "71"
      ]
     },
     "execution_count": 98,
     "metadata": {},
     "output_type": "execute_result"
    }
   ],
   "source": [
    "tau = pm.rdiscrete_uniform(0, 80)\n",
    "tau"
   ]
  },
  {
   "cell_type": "code",
   "execution_count": 99,
   "metadata": {
    "collapsed": false
   },
   "outputs": [
    {
     "name": "stdout",
     "output_type": "stream",
     "text": [
      "2.81569521939 36.4975350517\n"
     ]
    }
   ],
   "source": [
    "alpha = 1./20.\n",
    "lambda_1, lambda_2 = pm.rexponential(alpha, 2)\n",
    "print lambda_1, lambda_2"
   ]
  },
  {
   "cell_type": "code",
   "execution_count": 100,
   "metadata": {
    "collapsed": true
   },
   "outputs": [],
   "source": [
    "data = np.r_[pm.rpoisson(lambda_1, tau), pm.rpoisson(lambda_2, 80 - tau)]"
   ]
  },
  {
   "cell_type": "code",
   "execution_count": 101,
   "metadata": {
    "collapsed": false
   },
   "outputs": [
    {
     "data": {
      "text/plain": [
       "<matplotlib.legend.Legend at 0x11e1a4490>"
      ]
     },
     "execution_count": 101,
     "metadata": {},
     "output_type": "execute_result"
    },
    {
     "data": {
      "image/png": "[encoded data removed]",
      "text/plain": [
       "<matplotlib.figure.Figure at 0x11deca350>"
      ]
     },
     "metadata": {},
     "output_type": "display_data"
    }
   ],
   "source": [
    "plt.bar(np.arange(80), data)\n",
    "plt.bar(tau - 1, data[tau - 1], color='r', label='behavior change')\n",
    "plt.xlabel('Time (days)')\n",
    "plt.ylabel('count of msgs received')\n",
    "plt.title('Artificial dataset')\n",
    "plt.xlim(0, 80)\n",
    "plt.legend()"
   ]
  },
  {
   "cell_type": "code",
   "execution_count": 106,
   "metadata": {
    "collapsed": false
   },
   "outputs": [],
   "source": [
    "def plot_artificial_sms_dataset():\n",
    "    tau = pm.rdiscrete_uniform(0, 80)\n",
    "    alpha = 1. / 20.\n",
    "    lambda_1, lambda_2 = pm.rexponential(alpha, 2)\n",
    "    data = np.r_[pm.rpoisson(lambda_1, tau), pm.rpoisson(lambda_2, 80 - tau)]\n",
    "                 \n",
    "    plt.bar(np.arange(80), data)\n",
    "    plt.bar(tau - 1, data[tau - 1], color='r', label='behavior change')\n",
    "    plt.xlim(0, 80)"
   ]
  },
  {
   "cell_type": "code",
   "execution_count": 108,
   "metadata": {
    "collapsed": false,
    "scrolled": true
   },
   "outputs": [
    {
     "data": {
      "image/png": "[encoded data removed]",
      "text/plain": [
       "<matplotlib.figure.Figure at 0x11fcdbad0>"
      ]
     },
     "metadata": {},
     "output_type": "display_data"
    }
   ],
   "source": [
    "figsize(10, 5)\n",
    "plt.title('Many examples')\n",
    "for i in range(4):\n",
    "    plt.subplot(4, 1, i)\n",
    "    plot_artificial_sms_dataset()"
   ]
  },
  {
   "cell_type": "markdown",
   "metadata": {},
   "source": [
    "We did the simple single parameter bernoulli example above, so we skip to the A and B example here."
   ]
  },
  {
   "cell_type": "code",
   "execution_count": 153,
   "metadata": {
    "collapsed": false
   },
   "outputs": [
    {
     "name": "stdout",
     "output_type": "stream",
     "text": [
      "Obs from site A:  [1 0 0 0 0 0 0 0 1 0 0 0 0 0 0 0 0 0 0 0] ...\n",
      "Obs from site B:  [0 0 0 0 0 0 0 0 0 0 0 0 0 0 0 0 0 0 0 0] ...\n"
     ]
    }
   ],
   "source": [
    "true_p_A = 0.05\n",
    "true_p_B = 0.04\n",
    "\n",
    "N_A = 1500\n",
    "N_B = 750\n",
    "\n",
    "observations_A = pm.rbernoulli(true_p_A, N_A)\n",
    "observations_B = pm.rbernoulli(true_p_B, N_B)\n",
    "print \"Obs from site A: \", observations_A[:20].astype(int), \"...\"\n",
    "print \"Obs from site B: \", observations_B[:20].astype(int), \"...\""
   ]
  },
  {
   "cell_type": "code",
   "execution_count": 154,
   "metadata": {
    "collapsed": false
   },
   "outputs": [
    {
     "name": "stdout",
     "output_type": "stream",
     "text": [
      "0.052\n",
      "0.0306666666667\n"
     ]
    }
   ],
   "source": [
    "print observations_A.mean()\n",
    "print observations_B.mean()\n",
    "# mean() works here to give us the actual proportion because we have \n",
    "# a seq of 0s and 1s, and (1 / n) * (sum of 1s) = the proportion"
   ]
  },
  {
   "cell_type": "code",
   "execution_count": 155,
   "metadata": {
    "collapsed": true
   },
   "outputs": [],
   "source": [
    "p_A = pm.Uniform(\"p_A\", 0, 1)\n",
    "p_B = pm.Uniform(\"p_B\", 0, 1)\n",
    "\n",
    "@pm.deterministic\n",
    "def delta(p_A=p_A, p_B=p_B):\n",
    "    return p_A - p_B"
   ]
  },
  {
   "cell_type": "code",
   "execution_count": 156,
   "metadata": {
    "collapsed": false
   },
   "outputs": [
    {
     "data": {
      "text/plain": [
       "{<pymc.PyMCObjects.Deterministic 'delta' at 0x11e36e9d0>}"
      ]
     },
     "execution_count": 156,
     "metadata": {},
     "output_type": "execute_result"
    }
   ],
   "source": [
    "p_A.children"
   ]
  },
  {
   "cell_type": "code",
   "execution_count": 157,
   "metadata": {
    "collapsed": false
   },
   "outputs": [
    {
     "data": {
      "text/plain": [
       "set()"
      ]
     },
     "execution_count": 157,
     "metadata": {},
     "output_type": "execute_result"
    }
   ],
   "source": [
    "delta.children"
   ]
  },
  {
   "cell_type": "code",
   "execution_count": 158,
   "metadata": {
    "collapsed": false
   },
   "outputs": [
    {
     "data": {
      "text/plain": [
       "{'p_A': <pymc.distributions.Uniform 'p_A' at 0x10a7cdf50>,\n",
       " 'p_B': <pymc.distributions.Uniform 'p_B' at 0x10a7cda50>}"
      ]
     },
     "execution_count": 158,
     "metadata": {},
     "output_type": "execute_result"
    }
   ],
   "source": [
    "delta.parents"
   ]
  },
  {
   "cell_type": "code",
   "execution_count": 159,
   "metadata": {
    "collapsed": false
   },
   "outputs": [
    {
     "name": "stdout",
     "output_type": "stream",
     "text": [
      " [-----------------100%-----------------] 20000 of 20000 complete in 2.1 sec"
     ]
    }
   ],
   "source": [
    "obs_A = pm.Bernoulli(\"obs_A\", p_A, value=observations_A, observed=True)\n",
    "obs_B = pm.Bernoulli(\"obs_B\", p_B, value=observations_B, observed=True)\n",
    "\n",
    "mcmc = pm.MCMC([p_A, p_B, delta, obs_A, obs_B])\n",
    "mcmc.sample(20000, 1000)"
   ]
  },
  {
   "cell_type": "code",
   "execution_count": 160,
   "metadata": {
    "collapsed": true
   },
   "outputs": [],
   "source": [
    "p_A_samples = mcmc.trace(\"p_A\")[:]\n",
    "p_B_samples = mcmc.trace(\"p_B\")[:]\n",
    "delta_samples = mcmc.trace(\"delta\")[:]"
   ]
  },
  {
   "cell_type": "code",
   "execution_count": 161,
   "metadata": {
    "collapsed": false
   },
   "outputs": [
    {
     "data": {
      "text/plain": [
       "array([ 0.05596755,  0.05596755,  0.05596755, ...,  0.05412372,\n",
       "        0.05412372,  0.05412372])"
      ]
     },
     "execution_count": 161,
     "metadata": {},
     "output_type": "execute_result"
    }
   ],
   "source": [
    "p_A_samples"
   ]
  },
  {
   "cell_type": "code",
   "execution_count": 162,
   "metadata": {
    "collapsed": false
   },
   "outputs": [
    {
     "data": {
      "image/png": "[encoded data removed]",
      "text/plain": [
       "<matplotlib.figure.Figure at 0x11f769090>"
      ]
     },
     "metadata": {},
     "output_type": "display_data"
    }
   ],
   "source": [
    "figsize(10, 10)\n",
    "\n",
    "ax = plt.subplot(311)\n",
    "plt.xlim(0, .1)\n",
    "plt.hist(p_A_samples, histtype='stepfilled', bins=25, alpha=0.85,\n",
    "         label=\"posterior of $p_A$\", color=\"#A60628\", normed=True)\n",
    "plt.vlines(true_p_A, 0, 80, linestyle=\"--\", label=\"true $p_A$ (unknown)\")\n",
    "plt.legend(loc=\"upper right\")\n",
    "plt.title(\"Posterior distributions of $p_A$, $p_B$, and delta unknowns\")\n",
    "\n",
    "ax = plt.subplot(312)\n",
    "plt.xlim(0, .1)\n",
    "plt.hist(p_B_samples, histtype='stepfilled', bins=25, alpha=0.85,\n",
    "         label=\"posterior of $p_B$\", color=\"#467821\", normed=True)\n",
    "plt.vlines(true_p_B, 0, 80, linestyle=\"--\", label=\"true $p_B$ (unknown)\")\n",
    "plt.legend(loc=\"upper right\")\n",
    "\n",
    "ax = plt.subplot(313)\n",
    "plt.hist(delta_samples, histtype='stepfilled', bins=30, alpha=0.85,\n",
    "         label=\"posterior of delta\", color=\"#7A68A6\", normed=True)\n",
    "plt.vlines(true_p_A - true_p_B, 0, 60, linestyle=\"--\",\n",
    "           label=\"true delta (unknown)\")\n",
    "plt.vlines(0, 0, 60, color=\"black\", alpha=0.2)\n",
    "plt.legend(loc=\"upper right\");"
   ]
  },
  {
   "cell_type": "code",
   "execution_count": 163,
   "metadata": {
    "collapsed": false
   },
   "outputs": [
    {
     "name": "stdout",
     "output_type": "stream",
     "text": [
      "Prob that site A is worse than site B: 0.009\n",
      "Prob that site B is worse than site A: 0.991\n"
     ]
    }
   ],
   "source": [
    "print 'Prob that site A is worse than site B: %.3f' % (delta_samples < 0).mean()\n",
    "print 'Prob that site B is worse than site A: %.3f' % (delta_samples > 0).mean()\n",
    "# my guess is that mean works here for the same reason it does above:\n",
    "# we get 1/n * the sum of the trues."
   ]
  },
  {
   "cell_type": "markdown",
   "metadata": {},
   "source": [
    "#Cheating "
   ]
  },
  {
   "cell_type": "code",
   "execution_count": 208,
   "metadata": {
    "collapsed": true
   },
   "outputs": [],
   "source": [
    "N = 100\n",
    "p = pm.Uniform(\"freq_cheating\", 0, 1)"
   ]
  },
  {
   "cell_type": "code",
   "execution_count": 209,
   "metadata": {
    "collapsed": true
   },
   "outputs": [],
   "source": [
    "true_answers = pm.Bernoulli('truths', p, size=N)"
   ]
  },
  {
   "cell_type": "code",
   "execution_count": 210,
   "metadata": {
    "collapsed": false
   },
   "outputs": [
    {
     "name": "stdout",
     "output_type": "stream",
     "text": [
      "0.47\n",
      "0.49\n"
     ]
    }
   ],
   "source": [
    "first_coin_flips = pm.Bernoulli(\"first_coin_flips\", 0.5, size=N)\n",
    "second_coin_flips = pm.Bernoulli(\"second_coin_flips\", 0.5, size=N)\n",
    "print (first_coin_flips.value).mean()\n",
    "print (second_coin_flips.value).mean()"
   ]
  },
  {
   "cell_type": "code",
   "execution_count": 211,
   "metadata": {
    "collapsed": true
   },
   "outputs": [],
   "source": [
    "@pm.deterministic\n",
    "def observed_proportion(t_a=true_answers,\n",
    "                        fc=first_coin_flips,\n",
    "                        sc=second_coin_flips):\n",
    "    # we see the true answer if the first coin flip is true,\n",
    "    # and the second coin flip if the first coin flip is false\n",
    "    # i think this is doing matrix/array multiplication: ie, we're\n",
    "    # multiplying the first element of fc by the first element of \n",
    "    # t_a and the inverse of the first element of fc by the first\n",
    "    # element of sc, and same for element two, three, etc.\n",
    "    observed = fc * t_a + (1 - fc) * sc\n",
    "    return observed.sum() / float(N)"
   ]
  },
  {
   "cell_type": "code",
   "execution_count": 212,
   "metadata": {
    "collapsed": false
   },
   "outputs": [
    {
     "data": {
      "text/plain": [
       "0.40000000000000002"
      ]
     },
     "execution_count": 212,
     "metadata": {},
     "output_type": "execute_result"
    }
   ],
   "source": [
    "observed_proportion.value"
   ]
  },
  {
   "cell_type": "code",
   "execution_count": 213,
   "metadata": {
    "collapsed": true
   },
   "outputs": [],
   "source": [
    "X = 35\n",
    "observations = pm.Binomial('observations', N, \n",
    "                           observed_proportion, observed=True,\n",
    "                           value = X)"
   ]
  },
  {
   "cell_type": "code",
   "execution_count": 214,
   "metadata": {
    "collapsed": false
   },
   "outputs": [
    {
     "data": {
      "text/plain": [
       "{'n': 100,\n",
       " 'p': <pymc.PyMCObjects.Deterministic 'observed_proportion' at 0x11fdc9110>}"
      ]
     },
     "execution_count": 214,
     "metadata": {},
     "output_type": "execute_result"
    }
   ],
   "source": [
    "observations.parents"
   ]
  },
  {
   "cell_type": "code",
   "execution_count": 215,
   "metadata": {
    "collapsed": false
   },
   "outputs": [
    {
     "data": {
      "text/plain": [
       "{'fc': <pymc.distributions.Bernoulli 'first_coin_flips' at 0x11fdc9210>,\n",
       " 'sc': <pymc.distributions.Bernoulli 'second_coin_flips' at 0x11fdc9710>,\n",
       " 't_a': <pymc.distributions.Bernoulli 'truths' at 0x11f778750>}"
      ]
     },
     "execution_count": 215,
     "metadata": {},
     "output_type": "execute_result"
    }
   ],
   "source": [
    "observed_proportion.parents"
   ]
  },
  {
   "cell_type": "code",
   "execution_count": 216,
   "metadata": {
    "collapsed": false
   },
   "outputs": [
    {
     "name": "stdout",
     "output_type": "stream",
     "text": [
      "{'p': 0.5}\n",
      "{'p': 0.5}\n",
      "{'p': <pymc.distributions.Uniform 'freq_cheating' at 0x11f7780d0>}\n"
     ]
    }
   ],
   "source": [
    "print first_coin_flips.parents\n",
    "print second_coin_flips.parents\n",
    "print true_answers.parents"
   ]
  },
  {
   "cell_type": "code",
   "execution_count": 217,
   "metadata": {
    "collapsed": false
   },
   "outputs": [
    {
     "name": "stdout",
     "output_type": "stream",
     "text": [
      "{'upper': 1, 'lower': 0}\n"
     ]
    }
   ],
   "source": [
    "print p.parents"
   ]
  },
  {
   "cell_type": "code",
   "execution_count": 218,
   "metadata": {
    "collapsed": false
   },
   "outputs": [
    {
     "name": "stdout",
     "output_type": "stream",
     "text": [
      " [-----------------100%-----------------] 40000 of 40000 complete in 12.2 sec"
     ]
    }
   ],
   "source": [
    "model = pm.Model([p, true_answers, first_coin_flips,\n",
    "                  second_coin_flips, observed_proportion, \n",
    "                  observations])\n",
    "\n",
    "mcmc = pm.MCMC(model)\n",
    "mcmc.sample(40000, 15000)"
   ]
  },
  {
   "cell_type": "code",
   "execution_count": 219,
   "metadata": {
    "collapsed": false
   },
   "outputs": [
    {
     "data": {
      "text/plain": [
       "(0, 1)"
      ]
     },
     "execution_count": 219,
     "metadata": {},
     "output_type": "execute_result"
    },
    {
     "data": {
      "image/png": "[encoded data removed]",
      "text/plain": [
       "<matplotlib.figure.Figure at 0x11fdc9790>"
      ]
     },
     "metadata": {},
     "output_type": "display_data"
    }
   ],
   "source": [
    "figsize(10, 3)\n",
    "p_trace = mcmc.trace(\"freq_cheating\")[:]\n",
    "plt.hist(p_trace, histtype='stepfilled', normed=True, bins=30)\n",
    "plt.xlim(0, 1)"
   ]
  },
  {
   "cell_type": "markdown",
   "metadata": {},
   "source": [
    "#Challenger example (with lots to teach) "
   ]
  },
  {
   "cell_type": "code",
   "execution_count": null,
   "metadata": {
    "collapsed": true
   },
   "outputs": [],
   "source": []
  }
 ],
 "metadata": {
  "kernelspec": {
   "display_name": "Python 2",
   "language": "python",
   "name": "python2"
  },
  "language_info": {
   "codemirror_mode": {
    "name": "ipython",
    "version": 2
   },
   "file_extension": ".py",
   "mimetype": "text/x-python",
   "name": "python",
   "nbconvert_exporter": "python",
   "pygments_lexer": "ipython2",
   "version": "2.7.9"
  }
 },
 "nbformat": 4,
 "nbformat_minor": 0
}
